{
 "cells": [
  {
   "cell_type": "code",
   "execution_count": 4,
   "metadata": {},
   "outputs": [],
   "source": [
    "import csv\n",
    "import string\n",
    "a = 1\n",
    "stop_words = [\"the\", \"and\", \"of\", \"a\", \"in\"]\n",
    "allData = []\n",
    "while (a<6):\n",
    "    with open(\"trade-wars-news\"+str(a)+\".txt\",'r+') as text1:# read the doc from the certain path\n",
    "        words = [word.strip(string.punctuation).lower() for word in str(text1.read()).split()]# split the comma and capital words, then we get the word list\n",
    "        allData = allData + words\n",
    "    a = a + 1\n",
    "with open('frequecy' + '.csv', 'w') as f:\n",
    "    mywriter = csv.writer(f)  # open a csv writer\n",
    "    header = ['keyword', 'times']  # set the header of the csv file\n",
    "    mywriter.writerow(header)  # write the csv file\n",
    "    words_index = set(allData)  # get the words that only appears once\n",
    "    count_dict = {index: allData.count(index) for index in\n",
    "                  words_index}  # count how many times it appears int the words_index\n",
    "    for word in sorted(count_dict, key=lambda x: count_dict[x], reverse=True):  # start sort\n",
    "        if (count_dict[word] > 15):  # if it is larger than 15 print\n",
    "            if (word not in stop_words):\n",
    "                mywriter.writerow([word, count_dict[word]])  # write it in the csv file"
   ]
  },
  {
   "cell_type": "code",
   "execution_count": null,
   "metadata": {},
   "outputs": [],
   "source": []
  }
 ],
 "metadata": {
  "kernelspec": {
   "display_name": "Python 3",
   "language": "python",
   "name": "python3"
  },
  "language_info": {
   "codemirror_mode": {
    "name": "ipython",
    "version": 3
   },
   "file_extension": ".py",
   "mimetype": "text/x-python",
   "name": "python",
   "nbconvert_exporter": "python",
   "pygments_lexer": "ipython3",
   "version": "3.7.0"
  }
 },
 "nbformat": 4,
 "nbformat_minor": 2
}
