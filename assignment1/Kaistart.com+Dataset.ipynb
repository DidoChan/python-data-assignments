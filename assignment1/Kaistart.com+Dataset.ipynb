{
 "cells": [
  {
   "cell_type": "code",
   "execution_count": 2,
   "metadata": {},
   "outputs": [],
   "source": [
    "import requests\n",
    "import bs4\n",
    "import csv\n",
    "from selenium import webdriver\n",
    "from selenium.webdriver.common.action_chains import ActionChains\n",
    "import time\n",
    "import os"
   ]
  },
  {
   "cell_type": "code",
   "execution_count": 3,
   "metadata": {},
   "outputs": [],
   "source": [
    "url = 'https://www.kaishiba.com/project/more'"
   ]
  },
  {
   "cell_type": "code",
   "execution_count": 4,
   "metadata": {},
   "outputs": [],
   "source": [
    "#coding=utf-8\n",
    "options = webdriver.ChromeOptions()\n",
    "options.add_argument('headless')\n",
    "browser = webdriver.Chrome(options=options)\n",
    "\n",
    "browser.get(url)\n",
    "i=0\n",
    "while i<10000:\n",
    "    browser.execute_script(\"window.scrollTo(0, document.body.scrollHeight);\")\n",
    "    i=i+1\n",
    "# time.sleep(1)\n",
    "someThingWeNeeds = []\n",
    "for session in browser.find_elements_by_class_name('cardBox'):\n",
    "    article = {}\n",
    "    h = session.find_element_by_class_name('title')\n",
    "    l = session.find_element_by_class_name('locate')\n",
    "    t = session.find_element_by_class_name('tag')\n",
    "    pd = session.find_element_by_class_name('project-detail').find_elements_by_class_name('num')\n",
    "    a = session.find_element_by_class_name('author')\n",
    "    \n",
    "    article['title'] = h.text\n",
    "    article['locate'] = l.text\n",
    "    article['tag'] = t.text\n",
    "    article['numOfPeople'] = pd[0].text\n",
    "    article['totalMoney'] = pd[1].text\n",
    "    article['percentage'] = pd[2].text\n",
    "    article['author'] = a.text\n",
    "    someThingWeNeeds.append(article)"
   ]
  },
  {
   "cell_type": "code",
   "execution_count": 5,
   "metadata": {},
   "outputs": [],
   "source": [
    "def WriteDictToCSV(csv_file,csv_columns,dict_data):\n",
    "    with open(csv_file, 'w') as csvfile:\n",
    "        writer = csv.DictWriter(csvfile, fieldnames=csv_columns)\n",
    "        writer.writeheader()\n",
    "        for data in dict_data:\n",
    "            writer.writerow(data)\n",
    "    return    "
   ]
  },
  {
   "cell_type": "code",
   "execution_count": 6,
   "metadata": {},
   "outputs": [],
   "source": [
    "header= ['title','locate','tag','numOfPeople','totalMoney','percentage','author']\n",
    "WriteDictToCSV('startup.csv',header,someThingWeNeeds)   "
   ]
  },
  {
   "cell_type": "code",
   "execution_count": null,
   "metadata": {},
   "outputs": [],
   "source": []
  }
 ],
 "metadata": {
  "kernelspec": {
   "display_name": "Python 3",
   "language": "python",
   "name": "python3"
  },
  "language_info": {
   "codemirror_mode": {
    "name": "ipython",
    "version": 3
   },
   "file_extension": ".py",
   "mimetype": "text/x-python",
   "name": "python",
   "nbconvert_exporter": "python",
   "pygments_lexer": "ipython3",
   "version": "3.7.0"
  }
 },
 "nbformat": 4,
 "nbformat_minor": 2
}
